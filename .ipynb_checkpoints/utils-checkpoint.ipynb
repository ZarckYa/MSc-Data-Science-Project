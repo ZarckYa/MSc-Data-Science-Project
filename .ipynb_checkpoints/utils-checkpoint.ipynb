{
 "cells": [
  {
   "cell_type": "code",
   "execution_count": 1,
   "id": "3b956897",
   "metadata": {},
   "outputs": [],
   "source": [
    "import irt_parameter_estimation as ipe\n",
    "import numpy\n",
    "import matplotlib.pyplot as plt"
   ]
  },
  {
   "cell_type": "code",
   "execution_count": null,
   "id": "0dfc2e67",
   "metadata": {},
   "outputs": [],
   "source": [
    "def plot_ICC(ability, diff, disc, guess):\n",
    "    \n",
    "    for a,b,c,ability in zip(diff, disc, guess, ability)\n",
    "        prob_correct = ipe.logistic3PLabc(a=diff, b=disc, c=guess, theta=ability)\n",
    "        "
   ]
  }
 ],
 "metadata": {
  "kernelspec": {
   "display_name": "data_analytics",
   "language": "python",
   "name": "data_analytics"
  },
  "language_info": {
   "codemirror_mode": {
    "name": "ipython",
    "version": 3
   },
   "file_extension": ".py",
   "mimetype": "text/x-python",
   "name": "python",
   "nbconvert_exporter": "python",
   "pygments_lexer": "ipython3",
   "version": "3.9.16"
  }
 },
 "nbformat": 4,
 "nbformat_minor": 5
}
