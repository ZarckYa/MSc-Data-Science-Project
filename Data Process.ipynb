{
 "cells": [
  {
   "cell_type": "code",
   "execution_count": 1,
   "metadata": {},
   "outputs": [],
   "source": [
    "import json\n",
    "import numpy as np\n",
    "import os\n",
    "import re\n",
    "from gtts import gTTS\n",
    "import pyttsx3\n",
    "from moviepy.editor import concatenate_audioclips, AudioFileClip\n",
    "from playsound import playsound"
   ]
  },
  {
   "cell_type": "code",
   "execution_count": 33,
   "metadata": {},
   "outputs": [
    {
     "name": "stdout",
     "output_type": "stream",
     "text": [
      "W:The last award in this year’s Nobel series,the Economics Prize,has been awarded to Elinor Ostrom from Indiana University and to Oliver Williamson from the University of California at Berkeley. --- The two won the prize for their analysis of how authority is exercised in economic systems and in companies. Nobel Economics Committee Chairman Bertil Holmlund said their work was very good. --- “Elinor Ostrom’s research has provided novel lessons about the mechanisms that sustain human cooperation，”he said. “Oliver Williamson’s research has offered new insights on how transaction costs determine the boundaries of the firm. ”They both have profoundly enhanced our understanding of economic governance. --- Ostrom and Williamson share the $1. 4 million prize. They will also receive a gold medal and a diploma from the Swedish king on December 10，the anniversary of Alfred Nobel’s death in 1896. ---\n"
     ]
    }
   ],
   "source": [
    "with open('Data/data.json', 'r', encoding=\"utf-8\") as handle:\n",
    "    dataf = json.load(handle)\n",
    "\n",
    "testConversation = list(dataf[9606].keys())[0]\n",
    "print(testConversation)"
   ]
  },
  {
   "cell_type": "code",
   "execution_count": 34,
   "metadata": {},
   "outputs": [
    {
     "name": "stdout",
     "output_type": "stream",
     "text": [
      "[]\n",
      "W:The last award in this year’s Nobel series,the Economics Prize,has been awarded to Elinor Ostrom from Indiana University and to Oliver Williamson from the University of California at Berkeley. --- The two won the prize for their analysis of how authority is exercised in economic systems and in companies. Nobel Economics Committee Chairman Bertil Holmlund said their work was very good. --- “Elinor Ostrom’s research has provided novel lessons about the mechanisms that sustain human cooperation，”he said. “Oliver Williamson’s research has offered new insights on how transaction costs determine the boundaries of the firm. ”They both have profoundly enhanced our understanding of economic governance. --- Ostrom and Williamson share the $1. 4 million prize. They will also receive a gold medal and a diploma from the Swedish king on December 10，the anniversary of Alfred Nobel’s death in 1896. ---\n"
     ]
    }
   ],
   "source": [
    "matchChar = re.findall(r'\\(*\\d*\\)', testConversation)\n",
    "print(matchChar)\n",
    "\n",
    "replaceChar = re.sub(r'\\(*\\d*\\)', r'',testConversation)\n",
    "print(replaceChar)"
   ]
  },
  {
   "cell_type": "code",
   "execution_count": 30,
   "metadata": {
    "scrolled": false
   },
   "outputs": [
    {
     "name": "stdout",
     "output_type": "stream",
     "text": [
      "['M：Mrs Smith，we’re very pleased that you want to work for our company. I wonder if you’d be interested in working in India. ', 'W：India？But I’ve lived there. I was there for two years. ', 'M：How about Brazil？', 'W：Brazil？No，I’ve worked there. ', 'M：Well，would you consider the Middle East？', 'W：Certainly not. I’ve worked there，too. I spent three years there. ', 'M：Well，there’s China，perhaps. ', 'W：No，not China. I’ve been in China. ', 'M：It’s a big country. ', 'W：Yes，and I’ve lived there for a long time. Can’t you find any other country？', 'M：Well，there’s this island in the Pacific. ', 'W：Island？Which island？I’ve lived there. ', 'M：But，Mrs Smith，there are thousands of islands，as we all know. ', 'W：Well，I’ve seen them all. Really，can’t you let me go to a different country from those you’ve mentioned？']\n",
      "MoviePy - Writing audio in Data\\Conversation mp3/test.mp3\n"
     ]
    },
    {
     "name": "stderr",
     "output_type": "stream",
     "text": [
      "                                                                                                                       "
     ]
    },
    {
     "name": "stdout",
     "output_type": "stream",
     "text": [
      "MoviePy - Done.\n"
     ]
    },
    {
     "name": "stderr",
     "output_type": "stream",
     "text": [
      "\r"
     ]
    }
   ],
   "source": [
    "cleanedConversation = re.sub(r'\\(*\\d*\\)', r'',testConversation)\n",
    "ConversationText = cleanedConversation\n",
    "Language = 'en'\n",
    "\n",
    "roles = ConversationText.split(\"---\")\n",
    "print(roles)\n",
    "mp3_roles = []\n",
    "\n",
    "for i, role in enumerate(roles):\n",
    "    if len(role) != 0:\n",
    "        if \"W\" == role[0]:\n",
    "            role = role[3:]\n",
    "            speaker = pyttsx3.init()\n",
    "            voices = speaker.getProperty(\"voices\")\n",
    "            speaker.setProperty('voice', voices[1].id)\n",
    "            path = \"Data/Conversation mp3/Temp\" + str(i) + \".mp3\"\n",
    "            speaker.save_to_file(role, path)\n",
    "            speaker.runAndWait()\n",
    "            mp3_roles.append(path)\n",
    "        elif (role[0] != \"W\") & (role[0] != \"M\"):\n",
    "            role = role[3:]\n",
    "            speaker = pyttsx3.init()\n",
    "            voices = speaker.getProperty(\"voices\")\n",
    "            speaker.setProperty('voice', voices[1].id)\n",
    "            path = \"Data/Conversation mp3/Temp\" + str(i) + \".mp3\"\n",
    "            speaker.save_to_file(role, path)\n",
    "            speaker.runAndWait()\n",
    "            mp3_roles.append(path)            \n",
    "        elif \"M\" == role[0]:\n",
    "            role = role[3:]\n",
    "            speaker = pyttsx3.init()\n",
    "            voices = speaker.getProperty(\"voices\")\n",
    "            speaker.setProperty('voice', voices[2].id)\n",
    "            path = \"Data/Conversation mp3/Temp\" + str(i) + \".mp3\"\n",
    "            speaker.save_to_file(role, path)\n",
    "            speaker.runAndWait()\n",
    "            mp3_roles.append(path)\n",
    "        elif (role[0] != \"W\") & (role[0] != \"M\"):\n",
    "            role = role[3:]\n",
    "            speaker = pyttsx3.init()\n",
    "            voices = speaker.getProperty(\"voices\")\n",
    "            speaker.setProperty('voice', voices[2].id)\n",
    "            path = \"Data/Conversation mp3/Temp\" + str(i) + \".mp3\"\n",
    "            speaker.save_to_file(role, path)\n",
    "            speaker.runAndWait()            \n",
    "\n",
    "output_path = \"Data\\Conversation mp3/test.mp3\"        \n",
    "clips = [AudioFileClip(c) for c in mp3_roles]\n",
    "final_clip = concatenate_audioclips(clips)\n",
    "final_clip.write_audiofile(output_path)        \n"
   ]
  },
  {
   "cell_type": "code",
   "execution_count": 31,
   "metadata": {},
   "outputs": [],
   "source": [
    "playsound(\"Data/Conversation mp3/test.mp3\")"
   ]
  },
  {
   "cell_type": "code",
   "execution_count": 35,
   "metadata": {},
   "outputs": [],
   "source": [
    "def Text_To_Speech(oneData, outputPath):\n",
    "    # Read the conversation from dataset\n",
    "    singleConversation = list(oneData.keys())[0]\n",
    "    # Clean data that any string contains \"(number)\", like (4), (13)\n",
    "    cleanedConversationText = re.sub(r'\\(*\\d*\\)', r'',singleConversation)\n",
    "    \n",
    "    # Set the language to English\n",
    "    # Split data by \"---\", which conversation begining as \"---\"\n",
    "    Language = 'en'\n",
    "    roles = cleanedConversationText.split(\"---\")\n",
    "\n",
    "    # define a empty list to store all mp3 segment path, \n",
    "    # which will used to concat into a whole conversation with man and women voices\n",
    "    mp3_roles = []\n",
    "\n",
    "    # The loop used to seperate text said by man or women\n",
    "    for i, role in enumerate(roles):\n",
    "        if len(role) != 0:\n",
    "            if \"W\" == role[0]:\n",
    "                role = role[3:]\n",
    "                speaker = pyttsx3.init()\n",
    "                voices = speaker.getProperty(\"voices\")\n",
    "                speaker.setProperty('voice', voices[1].id)\n",
    "                path = \"Data/Conversation mp3/Temp\" + str(i) + \".mp3\"\n",
    "                speaker.save_to_file(role, path)\n",
    "                speaker.runAndWait()\n",
    "                mp3_roles.append(path)\n",
    "            elif (role[0] != \"W\") & (role[0] != \"M\"):\n",
    "                role = role[3:]\n",
    "                speaker = pyttsx3.init()\n",
    "                voices = speaker.getProperty(\"voices\")\n",
    "                speaker.setProperty('voice', voices[1].id)\n",
    "                path = \"Data/Conversation mp3/Temp\" + str(i) + \".mp3\"\n",
    "                speaker.save_to_file(role, path)\n",
    "                speaker.runAndWait()\n",
    "                mp3_roles.append(path)            \n",
    "            elif \"M\" == role[0]:\n",
    "                role = role[3:]\n",
    "                speaker = pyttsx3.init()\n",
    "                voices = speaker.getProperty(\"voices\")\n",
    "                speaker.setProperty('voice', voices[2].id)\n",
    "                path = \"Data/Conversation mp3/Temp\" + str(i) + \".mp3\"\n",
    "                speaker.save_to_file(role, path)\n",
    "                speaker.runAndWait()\n",
    "                mp3_roles.append(path)\n",
    "            elif (role[0] != \"W\") & (role[0] != \"M\"):\n",
    "                role = role[3:]\n",
    "                speaker = pyttsx3.init()\n",
    "                voices = speaker.getProperty(\"voices\")\n",
    "                speaker.setProperty('voice', voices[2].id)\n",
    "                path = \"Data/Conversation mp3/Temp\" + str(i) + \".mp3\"\n",
    "                speaker.save_to_file(role, path)\n",
    "                speaker.runAndWait()  \n",
    "    # Read all map3 segments from local\n",
    "    clips = [AudioFileClip(c) for c in mp3_roles]\n",
    "    # Concat all segment into one conversation\n",
    "    final_clip = concatenate_audioclips(clips)\n",
    "    # Output and save it into local\n",
    "    final_clip.write_audiofile(outputPath)        "
   ]
  },
  {
   "cell_type": "code",
   "execution_count": 37,
   "metadata": {},
   "outputs": [
    {
     "name": "stdout",
     "output_type": "stream",
     "text": [
      "MoviePy - Writing audio in Data\\Conversation mp3/test.mp3\n"
     ]
    },
    {
     "name": "stderr",
     "output_type": "stream",
     "text": [
      "                                                                                                                       "
     ]
    },
    {
     "name": "stdout",
     "output_type": "stream",
     "text": [
      "MoviePy - Done.\n"
     ]
    },
    {
     "name": "stderr",
     "output_type": "stream",
     "text": [
      "\r"
     ]
    }
   ],
   "source": [
    "output_path = \"Data\\Conversation mp3/test.mp3\"\n",
    "oneData = dataf[9606]\n",
    "Text_To_Speech(oneData = oneData, outputPath = output_path)"
   ]
  },
  {
   "cell_type": "code",
   "execution_count": 27,
   "metadata": {},
   "outputs": [
    {
     "name": "stdout",
     "output_type": "stream",
     "text": [
      "{'What does Oliver Williamson’s research provide?': {'A. Sustain human cooperation. ***B. Novel lessons about the mechanisms. ***C. New insights on how transaction costs determine the boundaries of the firm.': 'C'}}\n",
      "What does Oliver Williamson’s research provide?\n",
      "A. Sustain human cooperation. ***B. Novel lessons about the mechanisms. ***C. New insights on how transaction costs determine the boundaries of the firm.\n",
      "C\n",
      "['A. Sustain human cooperation. ', 'B. Novel lessons about the mechanisms. ', 'C. New insights on how transaction costs determine the boundaries of the firm.']\n"
     ]
    }
   ],
   "source": [
    "# Read questions and choices\n",
    "testQuestion = list(dataf[9606].values())[0][1]\n",
    "print(testQuestion)\n",
    "print(list(testQuestion.keys())[0])\n",
    "\n",
    "choiceSeq = list(list(testQuestion.values())[0].keys())[0]\n",
    "trueAnswer = list(list(testQuestion.values())[0].values())[0]\n",
    "print(list(list(testQuestion.values())[0].keys())[0])\n",
    "print(trueAnswer)\n",
    "\n",
    "choice = choiceSeq.split('***')\n",
    "print(choice)"
   ]
  },
  {
   "cell_type": "code",
   "execution_count": 30,
   "metadata": {},
   "outputs": [],
   "source": [
    "def read_Questions_and_Choices(oneData):\n",
    "    \n",
    "    # Define 3 lists to store all questions, choices and answers\n",
    "    questions = []\n",
    "    choices = []\n",
    "    trueAnswers = []\n",
    "    # Read questions and choices\n",
    "    questionsWithAnswers = list(oneData.values())[0]\n",
    "    \n",
    "    # This loop use to go through all questions in the whole dict\n",
    "    for questionWithAnswer in questionsWithAnswers:\n",
    "        # To get the question from dict\n",
    "        question = list(questionWithAnswer.keys())[0]\n",
    "        questions.append(question)\n",
    "        \n",
    "        # To get the choices from dict and split choices by \"***\"\n",
    "        choiceList = list(list(questionWithAnswer.values())[0].keys())[0]\n",
    "        choice = choiceList.split('***')\n",
    "        choices.append(choice)\n",
    "        \n",
    "        # To get all true answers in dict\n",
    "        trueAnswer = list(list(questionWithAnswer.values())[0].values())[0]\n",
    "        trueAnswers.append(trueAnswer)\n",
    "    return questions, choices, trueAnswers"
   ]
  },
  {
   "cell_type": "code",
   "execution_count": 10,
   "metadata": {},
   "outputs": [
    {
     "name": "stdout",
     "output_type": "stream",
     "text": [
      "MoviePy - Writing audio in Data\\Conversation mp3/test.mp3\n"
     ]
    },
    {
     "name": "stderr",
     "output_type": "stream",
     "text": [
      "                                                                                                                       \r"
     ]
    },
    {
     "name": "stdout",
     "output_type": "stream",
     "text": [
      "MoviePy - Done.\n"
     ]
    }
   ],
   "source": [
    "testOneData = dataf[3]\n",
    "output_path = \"Data/Conversation mp3/test.mp3\" \n",
    "\n",
    "Text_To_Speech(testOneData, output_path)\n",
    "playsound(output_path)"
   ]
  },
  {
   "cell_type": "code",
   "execution_count": 31,
   "metadata": {},
   "outputs": [
    {
     "name": "stdout",
     "output_type": "stream",
     "text": [
      "Questions: \n",
      " ['What is the woman doing?', 'What type of job is the man looking for?', 'Which can best describe the man?']\n",
      "Choices: \n",
      " [['A. Interviewing the man. ', 'B. Improving her résumé. ', 'C. Writing a reference for the man.'], ['A. A job in a security company. ', 'B. A job that allows room for growth. ', 'C. A job with strong and inspiring leadership.'], [\"A. He's successful. \", \"B. He's full of ambition. \", 'C. He lacks motivation.']]\n",
      "Answers: \n",
      " ['A', 'B', 'B']\n"
     ]
    }
   ],
   "source": [
    "testOneData = dataf[3]\n",
    "Q, C, A = read_Questions_and_Choices(testOneData)\n",
    "print(\"Questions: \\n\", Q)\n",
    "print(\"Choices: \\n\", C)\n",
    "print(\"Answers: \\n\", A)"
   ]
  },
  {
   "cell_type": "code",
   "execution_count": 15,
   "metadata": {},
   "outputs": [
    {
     "name": "stdout",
     "output_type": "stream",
     "text": [
      "0\n"
     ]
    }
   ],
   "source": [
    "import numpy as np\n",
    "\n",
    "n = np.array([1, 2, 3, 4, 5])\n",
    "searchKey = min(n)\n",
    "item_index = np.where(n == searchKey)[0]\n",
    "print(item_index[0])"
   ]
  },
  {
   "cell_type": "code",
   "execution_count": 7,
   "metadata": {},
   "outputs": [
    {
     "name": "stdout",
     "output_type": "stream",
     "text": [
      "0\n"
     ]
    }
   ],
   "source": [
    "x = [0,2]\n",
    "s = np.sort(x)[0]\n",
    "print(s)"
   ]
  },
  {
   "cell_type": "code",
   "execution_count": null,
   "metadata": {},
   "outputs": [],
   "source": []
  }
 ],
 "metadata": {
  "kernelspec": {
   "display_name": "data_analytics",
   "language": "python",
   "name": "data_analytics"
  },
  "language_info": {
   "codemirror_mode": {
    "name": "ipython",
    "version": 3
   },
   "file_extension": ".py",
   "mimetype": "text/x-python",
   "name": "python",
   "nbconvert_exporter": "python",
   "pygments_lexer": "ipython3",
   "version": "3.9.16"
  }
 },
 "nbformat": 4,
 "nbformat_minor": 2
}
